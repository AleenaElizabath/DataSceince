{
 "cells": [
  {
   "cell_type": "code",
   "execution_count": 2,
   "id": "d7d01ca1",
   "metadata": {},
   "outputs": [],
   "source": [
    "import numpy as np"
   ]
  },
  {
   "cell_type": "code",
   "execution_count": 33,
   "id": "6bf72c90",
   "metadata": {},
   "outputs": [
    {
     "name": "stdout",
     "output_type": "stream",
     "text": [
      "Array in celsius [ 77 100 103 104 105]\n",
      "Array in farenheit [25.         37.77777778 39.44444444 40.         40.55555556]\n"
     ]
    }
   ],
   "source": [
    "#qu1 farenheit to celsius\n",
    "farh=np.empty(5)\n",
    "cel=np.array([77,100,103,104,105])\n",
    "for i in range(5):\n",
    "    val=((cel[i]-32)*(5/9))\n",
    "    farh[i]=val\n",
    "print(\"Array in celsius\",cel)\n",
    "print(\"Array in farenheit\",farh)"
   ]
  },
  {
   "cell_type": "code",
   "execution_count": 34,
   "id": "7ae1cdcf",
   "metadata": {},
   "outputs": [
    {
     "name": "stdout",
     "output_type": "stream",
     "text": [
      "Average= 51.472\n",
      "Standard Deviation= 28.563074344334858\n",
      "Variance= 815.8492160000001\n"
     ]
    }
   ],
   "source": [
    "#qu2 sum,avg,variance and SD of values in a random array\n",
    "arr1=np.random.randint(1,100,1000)\n",
    "avg=np.sum(arr1)/1000\n",
    "print(\"Average=\",avg)\n",
    "sd=np.std(arr1)\n",
    "var=np.var(arr1)\n",
    "print(\"Standard Deviation=\",sd)\n",
    "print(\"Variance=\",var)"
   ]
  },
  {
   "cell_type": "code",
   "execution_count": 35,
   "id": "cae13d12",
   "metadata": {},
   "outputs": [
    {
     "name": "stdout",
     "output_type": "stream",
     "text": [
      "[0.52359878 1.04719755 1.57079633 3.14159265 6.28318531]\n"
     ]
    }
   ],
   "source": [
    "#qu3 conversion of degrees to radians\n",
    "dgr=[30,60,90,180,360]\n",
    "rad=np.deg2rad(dgr)\n",
    "print(rad)"
   ]
  },
  {
   "cell_type": "code",
   "execution_count": 36,
   "id": "0d997039",
   "metadata": {},
   "outputs": [
    {
     "name": "stdout",
     "output_type": "stream",
     "text": [
      "Difference of element  0 and element  1 is  -1\n",
      "Difference of element  1 and element  2 is  -12\n",
      "Difference of element  2 and element  3 is  13\n",
      "Difference of element  3 and element  4 is  -23\n",
      "Difference of element  4 and element  5 is  -22\n"
     ]
    }
   ],
   "source": [
    "#qu4 differnce between array elements\n",
    "arr2=np.array([10,11,23,10,33,55])\n",
    "for i in range(len(arr2)-1):\n",
    "    diffr=arr2[i]-arr2[i+1]\n",
    "    print(\"Difference of element \",i,\"and element \",i+1,\"is \",diffr)\n",
    "    "
   ]
  },
  {
   "cell_type": "code",
   "execution_count": 70,
   "id": "8546279f",
   "metadata": {},
   "outputs": [
    {
     "name": "stdout",
     "output_type": "stream",
     "text": [
      "[17. +2.j 13. +5.j 11.+45.j 18.+89.j 15.+45.j]\n",
      "[11.+45.j 13. +5.j 15.+45.j 17. +2.j 18.+89.j]\n"
     ]
    }
   ],
   "source": [
    "#qu5 sort complex array\n",
    "com=np.array([17+2j,13+5j,11+45j,18+89j,15+45j])\n",
    "print(com)\n",
    "com_sorted=np.sort_complex(com)\n",
    "print(com_sorted)"
   ]
  },
  {
   "cell_type": "code",
   "execution_count": 37,
   "id": "79241006",
   "metadata": {},
   "outputs": [
    {
     "name": "stdout",
     "output_type": "stream",
     "text": [
      "[10 18 16 11 11 15 13 12 12  3]\n",
      "10\n",
      "18\n",
      "16\n",
      "11\n",
      "11\n",
      "15\n",
      "13\n",
      "12\n",
      "12\n"
     ]
    }
   ],
   "source": [
    "#qu6 print values greater than 4 from a random valued array\n",
    "rand_arr=np.random.randint(1,20,10)\n",
    "print(rand_arr)\n",
    "for i in range(len(rand_arr)):\n",
    "    if rand_arr[i]>4:\n",
    "        print(rand_arr[i])"
   ]
  },
  {
   "cell_type": "code",
   "execution_count": 38,
   "id": "7555aa71",
   "metadata": {},
   "outputs": [
    {
     "name": "stdout",
     "output_type": "stream",
     "text": [
      "Number found at the position 2\n"
     ]
    }
   ],
   "source": [
    "#qu7 array search\n",
    "srch_arr=np.array([11,22,33,44,55])\n",
    "srch=int(input(\"Enter a element to search:\"))\n",
    "x=np.where(srch_arr==srch)\n",
    "if (srch in x[0]):\n",
    "    print(\"empty\")\n",
    "else:\n",
    "    print(\"Number found at the position\",*x[0]+1)"
   ]
  },
  {
   "cell_type": "code",
   "execution_count": 39,
   "id": "b7f31aad",
   "metadata": {},
   "outputs": [
    {
     "name": "stdout",
     "output_type": "stream",
     "text": [
      "[11. 22. 33. 44. 55.]\n"
     ]
    }
   ],
   "source": [
    "#qu8 save array to textfile and load it\n",
    "arr1=np.array([11,22,33,44,55])\n",
    "arr1.tofile(\"arr.txt\",sep=\",\")\n",
    "arr2=np.loadtxt('arr.txt',delimiter=\",\")\n",
    "print(arr2)"
   ]
  },
  {
   "cell_type": "code",
   "execution_count": 40,
   "id": "756593bf",
   "metadata": {},
   "outputs": [
    {
     "name": "stdout",
     "output_type": "stream",
     "text": [
      "[30 32 34 36 38 40 42 44 46 48 50 52 54 56 58]\n"
     ]
    }
   ],
   "source": [
    "#qu9 array of even values from 30 to 60 \n",
    "arr1=np.arange(30,60,2)\n",
    "print(arr1)"
   ]
  },
  {
   "cell_type": "code",
   "execution_count": 30,
   "id": "9b4ff510",
   "metadata": {},
   "outputs": [
    {
     "name": "stdout",
     "output_type": "stream",
     "text": [
      "[[1 2 3]\n",
      " [4 5 6]\n",
      " [7 8 9]]\n",
      "45\n",
      "Sum of rows= [12 15 18]\n",
      "Sum of rows= [ 6 15 24]\n"
     ]
    }
   ],
   "source": [
    "#qu10 sum of elements,sum pof rows,sum of columns\n",
    "arr2=np.array([[1,2,3],[4,5,6],[7,8,9]])\n",
    "print(arr2)\n",
    "sum=np.sum(arr2)\n",
    "print(sum)\n",
    "rsum=np.sum(arr2,axis=0)\n",
    "print(\"Sum of rows=\",rsum)\n",
    "csum=np.sum(arr2,axis=1)\n",
    "print(\"Sum of rows=\",csum)"
   ]
  },
  {
   "cell_type": "markdown",
   "id": "abf7bbcb",
   "metadata": {},
   "source": [
    "\n"
   ]
  }
 ],
 "metadata": {
  "kernelspec": {
   "display_name": "base",
   "language": "python",
   "name": "python3"
  },
  "language_info": {
   "codemirror_mode": {
    "name": "ipython",
    "version": 3
   },
   "file_extension": ".py",
   "mimetype": "text/x-python",
   "name": "python",
   "nbconvert_exporter": "python",
   "pygments_lexer": "ipython3",
   "version": "3.12.4"
  }
 },
 "nbformat": 4,
 "nbformat_minor": 5
}

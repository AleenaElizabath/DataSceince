{
 "cells": [
  {
   "cell_type": "code",
   "execution_count": null,
   "id": "b73a3277",
   "metadata": {},
   "outputs": [],
   "source": [
    "import numpy as np"
   ]
  },
  {
   "cell_type": "code",
   "execution_count": 13,
   "id": "c5878bc6",
   "metadata": {},
   "outputs": [
    {
     "name": "stdout",
     "output_type": "stream",
     "text": [
      "Your numpy array is:\n",
      "[[1 2]\n",
      " [3 4]]\n",
      "Your numpy array2 is:\n",
      "[[5 6]\n",
      " [7 8]]\n",
      "Product of the 2 matrices= [[19 22]\n",
      " [43 50]]\n"
     ]
    }
   ],
   "source": [
    "n = int(input(\"Enter the size n for the nxn matrix: \"))\n",
    "m1 = []\n",
    "for i in range(n):\n",
    "    row = list(map(int, input(f\"Enter {n} numbers for row {i+1}, separated by spaces: \").split()))\n",
    "    if len(row) != n:\n",
    "        print(\"Invalid input: You must enter exactly\", n, \"numbers.\")\n",
    "        exit()\n",
    "    m1.append(row)\n",
    "\n",
    "arr = np.array(m1)\n",
    "print(\"Your numpy array is:\")\n",
    "print(arr)\n",
    "m2 = []\n",
    "for i in range(n):\n",
    "    row2 = list(map(int, input(f\"Enter {n} numbers for row {i+1}, separated by spaces: \").split()))\n",
    "    if len(row2) != n:\n",
    "        print(\"Invalid input: You must enter exactly\", n, \"numbers.\")\n",
    "        exit()\n",
    "    m2.append(row2)\n",
    "arr1 = np.array(m2)\n",
    "print(\"Your numpy array2 is:\")\n",
    "print(arr1)\n",
    "print(\"Product of the 2 matrices=\",np.dot(arr,arr1))"
   ]
  },
  {
   "cell_type": "code",
   "execution_count": 14,
   "id": "693c7101",
   "metadata": {},
   "outputs": [
    {
     "name": "stdout",
     "output_type": "stream",
     "text": [
      "Transpose [[1 3]\n",
      " [2 4]]\n"
     ]
    }
   ],
   "source": [
    "#Qu2\n",
    "print(\"Transpose\",np.transpose(m1))"
   ]
  },
  {
   "cell_type": "code",
   "execution_count": 15,
   "id": "ac6c8969",
   "metadata": {},
   "outputs": [
    {
     "name": "stdout",
     "output_type": "stream",
     "text": [
      "Trace= 5\n"
     ]
    }
   ],
   "source": [
    "#Qu3\n",
    "print(\"Trace=\",np.trace(m1))"
   ]
  },
  {
   "cell_type": "code",
   "execution_count": 16,
   "id": "ec9ce66e",
   "metadata": {},
   "outputs": [
    {
     "name": "stdout",
     "output_type": "stream",
     "text": [
      "Rank of the matrix: 2\n"
     ]
    }
   ],
   "source": [
    "#Qu4\n",
    "print(\"Rank of the matrix:\",np.linalg.matrix_rank(m1))"
   ]
  },
  {
   "cell_type": "code",
   "execution_count": 17,
   "id": "2eb1c261",
   "metadata": {},
   "outputs": [
    {
     "name": "stdout",
     "output_type": "stream",
     "text": [
      "Determinant: -2.0000000000000004\n"
     ]
    }
   ],
   "source": [
    "#Qu5\n",
    "print(\"Determinant:\",np.linalg.det(m1))"
   ]
  },
  {
   "cell_type": "code",
   "execution_count": 22,
   "id": "cbc2e2f1",
   "metadata": {},
   "outputs": [
    {
     "name": "stdout",
     "output_type": "stream",
     "text": [
      "Inverse of the matrix: [[-2.   1. ]\n",
      " [ 1.5 -0.5]]\n"
     ]
    }
   ],
   "source": [
    "#Qu6\n",
    "print(\"Inverse of the matrix:\",np.linalg.inv(arr))"
   ]
  },
  {
   "cell_type": "code",
   "execution_count": null,
   "id": "09a3010c",
   "metadata": {},
   "outputs": [
    {
     "name": "stdout",
     "output_type": "stream",
     "text": [
      "Eigen values: EigResult(eigenvalues=array([-0.37228132,  5.37228132]), eigenvectors=array([[-0.82456484, -0.41597356],\n",
      "       [ 0.56576746, -0.90937671]]))\n"
     ]
    }
   ],
   "source": [
    "#Qu7\n",
    "print(\"Eigen values:\",np.linalg.eig(m1))"
   ]
  }
 ],
 "metadata": {
  "kernelspec": {
   "display_name": "Python 3",
   "language": "python",
   "name": "python3"
  },
  "language_info": {
   "codemirror_mode": {
    "name": "ipython",
    "version": 3
   },
   "file_extension": ".py",
   "mimetype": "text/x-python",
   "name": "python",
   "nbconvert_exporter": "python",
   "pygments_lexer": "ipython3",
   "version": "3.12.0"
  }
 },
 "nbformat": 4,
 "nbformat_minor": 5
}

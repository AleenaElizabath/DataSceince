{
 "cells": [
  {
   "cell_type": "code",
   "execution_count": 2,
   "id": "3fcaf971",
   "metadata": {},
   "outputs": [],
   "source": [
    "import numpy as np"
   ]
  },
  {
   "cell_type": "code",
   "execution_count": null,
   "id": "558cf6ec",
   "metadata": {},
   "outputs": [
    {
     "name": "stdout",
     "output_type": "stream",
     "text": [
      "<class 'tuple'>\n"
     ]
    }
   ],
   "source": [
    "#creating normal tuple\n",
    "a=(11,22,33,44,55)\n",
    "print(type(a))"
   ]
  },
  {
   "cell_type": "code",
   "execution_count": null,
   "id": "52476606",
   "metadata": {},
   "outputs": [
    {
     "name": "stdout",
     "output_type": "stream",
     "text": [
      "[11 22 33 44 55]\n",
      "<class 'numpy.ndarray'>\n",
      "[11 22 33 44]\n",
      "<class 'numpy.ndarray'>\n"
     ]
    }
   ],
   "source": [
    "#creating numpy.ndarray\n",
    "arr1=np.array(a)\n",
    "print(arr1)\n",
    "print(type(arr1))\n",
    "arr2=np.array([11,22,33,44])\n",
    "print(arr2)\n",
    "print(type(arr2))"
   ]
  },
  {
   "cell_type": "code",
   "execution_count": 14,
   "id": "a527de70",
   "metadata": {},
   "outputs": [
    {
     "name": "stdout",
     "output_type": "stream",
     "text": [
      "[ 1  3  5  7  9 11 13 15 17 19 21 23 25 27 29 31 33 35 37 39 41 43 45 47\n",
      " 49 51 53 55 57 59 61 63 65 67 69 71 73 75 77 79 81 83 85 87 89 91 93 95\n",
      " 97 99]\n"
     ]
    }
   ],
   "source": [
    "arr3=np.arange(1,100,2)\n",
    "print(arr3)"
   ]
  },
  {
   "cell_type": "code",
   "execution_count": 24,
   "id": "20f96953",
   "metadata": {},
   "outputs": [
    {
     "name": "stdout",
     "output_type": "stream",
     "text": [
      "[0. 0. 0. 0. 0.]\n",
      "[1. 1. 1. 1. 1.]\n",
      "[[0 0 0]\n",
      " [0 0 0]\n",
      " [0 0 0]]\n"
     ]
    }
   ],
   "source": [
    "arr4=np.zeros(5)\n",
    "print(arr4)\n",
    "arr5=np.ones(5)\n",
    "print(arr5)\n",
    "arr6=np.zeros((3,3),int)\n",
    "print(arr6)\n"
   ]
  },
  {
   "cell_type": "code",
   "execution_count": 31,
   "id": "6c5d686b",
   "metadata": {},
   "outputs": [
    {
     "name": "stdout",
     "output_type": "stream",
     "text": [
      "[[11 22 33]\n",
      " [44 55 66]\n",
      " [77 88 99]]\n",
      "[[1. 0. 0.]\n",
      " [0. 1. 0.]\n",
      " [0. 0. 1.]]\n",
      "[[1. 0. 0.]\n",
      " [0. 1. 0.]\n",
      " [0. 0. 1.]]\n"
     ]
    }
   ],
   "source": [
    "mat1=np.array([[11,22,33],[44,55,66],[77,88,99]])\n",
    "print(mat1)\n",
    "mat2=np.eye(3)\n",
    "print(mat2)\n",
    "mat3=np.identity(3)\n",
    "print(mat3)"
   ]
  },
  {
   "cell_type": "code",
   "execution_count": null,
   "id": "2d281bb0",
   "metadata": {},
   "outputs": [
    {
     "name": "stdout",
     "output_type": "stream",
     "text": [
      "[ 0  1  2  3  4  5  6  7  8  9 10]\n",
      "[0 1 2 3 4]\n",
      "[ 0  5 10]\n",
      "[ 5  6  7  8  9 10]\n",
      "[1 2 3 4]\n",
      "[7 8 9]\n",
      "[10  9  8  7  6  5  4  3  2  1  0]\n",
      "[ 0  1  2  3  4  5  6  7  8  9 10]\n",
      "3\n",
      "[ 0  1  7  3  4  5  6  7  8  9 10]\n",
      "[ 0  1  2  3  4  5  6  7  8  9 10]\n"
     ]
    }
   ],
   "source": [
    "arr7=np.arange(11)\n",
    "print(arr7)\n",
    "print(arr7[:5])\n",
    "print(arr7[::5])\n",
    "print(arr7[5:])\n",
    "print(arr7[1:5])\n",
    "print(arr7[-4:-1])\n",
    "print(arr7[::-1])\n",
    "arr8=np.copy(arr7)\n",
    "print(arr8)\n",
    "print(arr8[3])\n",
    "arr7[2]=7\n",
    "print(arr7)\n",
    "print(arr8)"
   ]
  },
  {
   "cell_type": "code",
   "execution_count": 56,
   "id": "bec223ce",
   "metadata": {},
   "outputs": [
    {
     "name": "stdout",
     "output_type": "stream",
     "text": [
      "[1 2 3 4 5 6 7 8 9]\n"
     ]
    }
   ],
   "source": [
    "#concatenating 2 arrays\n",
    "ar1=np.array((1,2,3,4,5))\n",
    "ar2=np.array((6,7,8,9))\n",
    "ar3=np.concatenate((ar1,ar2))\n",
    "print(ar3)"
   ]
  },
  {
   "cell_type": "code",
   "execution_count": null,
   "id": "ba42a8c9",
   "metadata": {},
   "outputs": [
    {
     "name": "stdout",
     "output_type": "stream",
     "text": [
      "[[ 1  2  3]\n",
      " [ 4  5  6]\n",
      " [11 22 33]\n",
      " [44 55 66]]\n",
      "[[ 1  2  3 11 22 33]\n",
      " [ 4  5  6 44 55 66]]\n",
      "[[ 1  2  3]\n",
      " [ 4  5  6]\n",
      " [11 22 33]\n",
      " [44 55 66]]\n"
     ]
    }
   ],
   "source": [
    "#concatenating 2 matrices\n",
    "m1=np.array([[1,2,3],[4,5,6]])\n",
    "m2=np.array([[11,22,33],[44,55,66]])\n",
    "#concatenating 2 matrices with axis=0\n",
    "m3=np.concatenate((m1,m2),axis=0)\n",
    "#concatenating 2 matrices with axis=1\n",
    "m4=np.concatenate((m1,m2),axis=1)\n",
    "m5=np.concatenate((m1,m2))\n",
    "print(m3)\n",
    "print(m4)\n",
    "print(m5)"
   ]
  },
  {
   "cell_type": "code",
   "execution_count": 101,
   "id": "c5fe49c2",
   "metadata": {},
   "outputs": [
    {
     "name": "stdout",
     "output_type": "stream",
     "text": [
      "[1 2 3 7 5 6 7]\n",
      "(array([3, 6], dtype=int64),)\n",
      "Number found at the position 4 7\n"
     ]
    }
   ],
   "source": [
    "m6=np.array([1,2,3,7,5,6,7])\n",
    "print(m6)\n",
    "x=np.where(m6==7)\n",
    "print(x)\n",
    "if(7 in x[0]):\n",
    "    print(\"empty\")\n",
    "else:\n",
    "    print(\"Number found at the position\",*x[0]+1)"
   ]
  }
 ],
 "metadata": {
  "kernelspec": {
   "display_name": "Python 3",
   "language": "python",
   "name": "python3"
  },
  "language_info": {
   "codemirror_mode": {
    "name": "ipython",
    "version": 3
   },
   "file_extension": ".py",
   "mimetype": "text/x-python",
   "name": "python",
   "nbconvert_exporter": "python",
   "pygments_lexer": "ipython3",
   "version": "3.12.0"
  }
 },
 "nbformat": 4,
 "nbformat_minor": 5
}
